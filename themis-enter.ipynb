{
 "cells": [
  {
   "cell_type": "code",
   "execution_count": null,
   "metadata": {},
   "outputs": [],
   "source": [
    "import requests\n",
    "from bs4 import BeautifulSoup\n",
    "import json\n",
    "import os\n",
    "from urllib import parse\n",
    "from IPython.display import HTML\n",
    "from selenium import webdriver\n",
    "from webdriver_manager.chrome import ChromeDriverManager\n",
    "from IPython.display import Image\n",
    "import pandas as pd\n",
    "import re\n",
    "import numpy as np\n",
    "from selenium.webdriver.support.select import Select\n",
    "from selenium.webdriver.common.by import By\n",
    "from selenium.webdriver.support.wait import WebDriverWait\n",
    "from selenium.common.exceptions import NoSuchElementException\n",
    "import time"
   ]
  },
  {
   "cell_type": "code",
   "execution_count": null,
   "metadata": {},
   "outputs": [],
   "source": [
    "tc_export_name = \"Timecard Export.csv\""
   ]
  },
  {
   "cell_type": "code",
   "execution_count": null,
   "metadata": {},
   "outputs": [],
   "source": [
    "themis_website = \"https://thmprod.themis.unimelb.edu.au/OA_HTML/RF.jsp?function_id=39493\""
   ]
  },
  {
   "cell_type": "code",
   "execution_count": null,
   "metadata": {},
   "outputs": [],
   "source": [
    "# Open Selenium Browser\n",
    "options = webdriver.ChromeOptions()\n",
    "options.add_argument(\"--no-sandbox\")\n",
    "options.add_argument(\"--headless\")\n",
    "driver = webdriver.Chrome(options=options)"
   ]
  },
  {
   "cell_type": "code",
   "execution_count": null,
   "metadata": {},
   "outputs": [],
   "source": [
    "# Set up target rows\n",
    "export_df = pd.read_csv(tc_export_name, dtype=str)\n",
    "timecard_rows = export_df[~export_df.isna().apply(lambda x: all(x), axis=1)]\n",
    "date_pattern = r\"^(.+) (Start|End)$\"\n",
    "\n",
    "def build_rows_list(rows_df):\n",
    "    row_bundle = {}\n",
    "    row_order = []\n",
    "    row_order_seen = set()\n",
    "    for idx in rows_df.index:\n",
    "        for c in rows_df.columns:\n",
    "            if idx not in row_bundle.keys():\n",
    "                row_bundle[idx] = {}\n",
    "            if \"start\" in c.lower() or \"end\" in c.lower():\n",
    "                date_val, d_row = re.match(date_pattern, c).group(1, 2)\n",
    "                if date_val not in row_bundle[idx].keys():\n",
    "                    row_bundle[idx][date_val] = {}\n",
    "                    if date_val not in row_order_seen:\n",
    "                        row_order.append(date_val)\n",
    "                        row_order_seen.add(date_val)\n",
    "                row_bundle[idx][date_val][d_row] = rows_df.loc[idx, c]\n",
    "            else:\n",
    "                if c not in row_bundle[idx].keys():\n",
    "                    row_bundle[idx][c] = rows_df.loc[idx, c]\n",
    "                    if c not in row_order_seen:\n",
    "                        row_order.append(c)\n",
    "                        row_order_seen.add(c)\n",
    "                        \n",
    "    return row_bundle, row_order\n",
    "\n",
    "def get_row_string(row, row_order):\n",
    "    # row_order = sorted(list(row.keys()))\n",
    "    row_strings = []\n",
    "    for key in row_order:\n",
    "        if type(row[key]) == dict:\n",
    "            if (type(row[key][\"Start\"]) == float or isinstance(row[key][\"Start\"], np.floating)) and np.isnan(row[key][\"Start\"]):\n",
    "                s_val = ''\n",
    "            else:\n",
    "                s_val = row[key][\"Start\"]\n",
    "            if (type(row[key][\"End\"]) == float or isinstance(row[key][\"End\"], np.floating)) and np.isnan(row[key][\"End\"]):\n",
    "                e_val = ''\n",
    "            else:\n",
    "                e_val = row[key][\"End\"]\n",
    "                \n",
    "            row_strings.append(\"{},{}\".format(s_val, e_val))\n",
    "        else:\n",
    "            if (type(row[key]) == float or isinstance(row[key], np.floating)) and np.isnan(row[key]):\n",
    "                row_strings.append('')\n",
    "            else:\n",
    "                row_strings.append(\"{}\".format(row[key]))\n",
    "    \n",
    "    return \",\".join(row_strings)\n",
    "\n",
    "full_rows, row_order = build_rows_list(timecard_rows)\n",
    "full_rows_identifiers = [get_row_string(row, row_order) for row_idx, row in full_rows.items()]\n",
    "\n",
    "## Set up reading functions.\n",
    "def read_row_col_select(row, col):\n",
    "    select_element_dropdown = driver.find_element(By.XPATH, '//span[text()=\" Casual Contract Reference \"]/../../../../../../../tr[{}]/td[{}]//select'.format(row, col))\n",
    "    select_dropdown = Select(select_element_dropdown)\n",
    "    if len(select_dropdown.all_selected_options) == 0:\n",
    "        return ''\n",
    "    else: \n",
    "        return select_dropdown.all_selected_options[0].text\n",
    "\n",
    "def read_row_col_val_delay(row, col):\n",
    "    text_element = driver.find_element(By.XPATH, '//span[text()=\" Casual Contract Reference \"]/../../../../../../../tr[{}]/td[{}]//input'.format(row, col))\n",
    "    return text_element.get_attribute(\"value\")\n",
    "\n",
    "def read_row_col_val(row, col):\n",
    "    text_element = driver.find_element(By.XPATH, '//span[text()=\" Casual Contract Reference \"]/../../../../../../../tr[{}]/td[{}]//input'.format(row, col))\n",
    "    return text_element.get_attribute(\"value\")\n",
    "\n",
    "def read_row_col_day(row, col):\n",
    "    text_element_start = driver.find_element(By.XPATH, '//span[text()=\" Casual Contract Reference \"]/../../../../../../../tr[{}]/td[{}]//table//table//tr[1]//td//input'.format(row, col))\n",
    "    text_element_end = driver.find_element(By.XPATH, '//span[text()=\" Casual Contract Reference \"]/../../../../../../../tr[{}]/td[{}]//table//table//tr[2]//td//input'.format(row, col))\n",
    "    return {\"Start\": text_element_start.get_attribute(\"value\"), \"End\": text_element_end.get_attribute(\"value\")}\n",
    "\n",
    "row_read_processing_rules = {\n",
    "    \"Casual Contract Reference\": (lambda row, col: read_row_col_select(row, col)),\n",
    "    \"Hours Type\": (lambda row, col: read_row_col_select(row, col)),\n",
    "    \"Payment Type\": (lambda row, col: read_row_col_val_delay(row, col)),\n",
    "    \"Job Performed\": (lambda row, col: read_row_col_select(row, col)),\n",
    "    \"Approval ID\": (lambda row, col: read_row_col_select(row, col)),\n",
    "    \"Coy\": (lambda row, col: read_row_col_val_delay(row, col)),\n",
    "    \"Budg\": (lambda row, col: read_row_col_val_delay(row, col)),\n",
    "    \"Cost\": (lambda row, col: read_row_col_val_delay(row, col)),\n",
    "    \"Proj\": (lambda row, col: read_row_col_val_delay(row, col)),\n",
    "    \"Pur\": (lambda row, col: read_row_col_val_delay(row, col)),\n",
    "    \"Act\": (lambda row, col: read_row_col_val_delay(row, col)),\n",
    "    \"Loc\": (lambda row, col: read_row_col_val_delay(row, col)),\n",
    "}\n",
    "\n",
    "day_rules = [(row_name, (lambda row, col: read_row_col_day(row, col))) for row_name in row_order if row_name not in row_read_processing_rules.keys()]\n",
    "\n",
    "for row_name, rule in day_rules:\n",
    "    row_read_processing_rules[row_name] = rule\n",
    "\n",
    "row_read_processing_rules[\"Comments\"] = lambda row, col: read_row_col_val(row, col)\n",
    "\n",
    "wait = WebDriverWait(driver, 60 * 15)\n",
    "\n",
    "# Write rules.\n",
    "def write_row_col_select(row, col, selection):\n",
    "    select_element_dropdown = driver.find_element(By.XPATH, '//span[text()=\" Casual Contract Reference \"]/../../../../../../../tr[{}]/td[{}]//select'.format(row, col))\n",
    "    select_dropdown = Select(select_element_dropdown)\n",
    "    \n",
    "    option = None\n",
    "    for candidate_option in select_dropdown.options:\n",
    "        if candidate_option.accessible_name == selection:\n",
    "            option = candidate_option\n",
    "    assert option is not None\n",
    "    select_dropdown.select_by_visible_text(selection)\n",
    "\n",
    "def write_row_col_val_delay(row, col, text):\n",
    "    if read_row_col_val_delay(row, col) == text:\n",
    "        # Already right value, skip over.\n",
    "        return\n",
    "    time.sleep(10)\n",
    "    wait.until(lambda d: d.execute_script('return document.readyState') == 'complete')\n",
    "    \n",
    "    driver.find_element(By.XPATH, '//span[text()=\" Casual Contract Reference \"]/../../../../../../../tr[{}]/td[{}]//input'.format(row, col)).click()\n",
    "    # Avoid double up if re-run\n",
    "    if not read_row_col_val_delay(row, col) == '':\n",
    "        driver.find_element(By.XPATH, '//span[text()=\" Casual Contract Reference \"]/../../../../../../../tr[{}]/td[{}]//input'.format(row, col)).clear()\n",
    "        time.sleep(10)\n",
    "        wait.until(lambda d: d.execute_script('return document.readyState') == 'complete')\n",
    "        driver.find_element(By.XPATH, '//span[text()=\" Casual Contract Reference \"]/../../../../../../../tr[{}]/td[{}]//input'.format(row, col)).click()\n",
    "    time.sleep(10)\n",
    "    wait.until(lambda d: d.execute_script('return document.readyState') == 'complete')\n",
    "    driver.find_element(By.XPATH, '//span[text()=\" Casual Contract Reference \"]/../../../../../../../tr[{}]/td[{}]//input'.format(row, col)).send_keys(text)\n",
    "    driver.find_element(By.XPATH, '//span[text()=\" Casual Contract Reference \"]/../../../../../../../tr[{}]/td[{}]//input'.format(row, col)).click()\n",
    "    time.sleep(1)\n",
    "    wait.until(lambda d: d.execute_script('return document.readyState') == 'complete')\n",
    "\n",
    "def write_row_col_val(row, col, text):\n",
    "    # Make sure we're ok to type\n",
    "    time.sleep(1)\n",
    "    wait.until(lambda d: d.execute_script('return document.readyState') == 'complete')\n",
    "    driver.find_element(By.XPATH, '//span[text()=\" Casual Contract Reference \"]/../../../../../../../tr[{}]/td[{}]//input'.format(row, col)).click()\n",
    "    driver.find_element(By.XPATH, '//span[text()=\" Casual Contract Reference \"]/../../../../../../../tr[{}]/td[{}]//input'.format(row, col)).clear()\n",
    "    # Make sure we're ok to type\n",
    "    time.sleep(1)\n",
    "    wait.until(lambda d: d.execute_script('return document.readyState') == 'complete')\n",
    "    driver.find_element(By.XPATH, '//span[text()=\" Casual Contract Reference \"]/../../../../../../../tr[{}]/td[{}]//input'.format(row, col)).click()\n",
    "    driver.find_element(By.XPATH, '//span[text()=\" Casual Contract Reference \"]/../../../../../../../tr[{}]/td[{}]//input'.format(row, col)).send_keys(text)\n",
    "\n",
    "def write_row_col_day(row, col, entry):\n",
    "    start_data = entry[\"Start\"]\n",
    "    if start_data is None or not type(start_data) == str:\n",
    "        start_data = ''\n",
    "    end_data = entry[\"End\"]\n",
    "    if end_data is None or not type(end_data) == str:\n",
    "        end_data = ''\n",
    "    driver.find_element(By.XPATH, '//span[text()=\" Casual Contract Reference \"]/../../../../../../../tr[{}]/td[{}]//table//table//tr[1]//td//input'.format(row, col)).click()\n",
    "    driver.find_element(By.XPATH, '//span[text()=\" Casual Contract Reference \"]/../../../../../../../tr[{}]/td[{}]//table//table//tr[1]//td//input'.format(row, col)).clear()\n",
    "    time.sleep(1)\n",
    "    wait.until(lambda d: d.execute_script('return document.readyState') == 'complete')\n",
    "    driver.find_element(By.XPATH, '//span[text()=\" Casual Contract Reference \"]/../../../../../../../tr[{}]/td[{}]//table//table//tr[1]//td//input'.format(row, col)).click()\n",
    "    driver.find_element(By.XPATH, '//span[text()=\" Casual Contract Reference \"]/../../../../../../../tr[{}]/td[{}]//table//table//tr[1]//td//input'.format(row, col)).send_keys(start_data)\n",
    "    driver.find_element(By.XPATH, '//span[text()=\" Casual Contract Reference \"]/../../../../../../../tr[{}]/td[{}]//table//table//tr[2]//td//input'.format(row, col)).click()\n",
    "    time.sleep(1)\n",
    "    wait.until(lambda d: d.execute_script('return document.readyState') == 'complete')\n",
    "    driver.find_element(By.XPATH, '//span[text()=\" Casual Contract Reference \"]/../../../../../../../tr[{}]/td[{}]//table//table//tr[2]//td//input'.format(row, col)).clear()\n",
    "    driver.find_element(By.XPATH, '//span[text()=\" Casual Contract Reference \"]/../../../../../../../tr[{}]/td[{}]//table//table//tr[2]//td//input'.format(row, col)).click()\n",
    "    driver.find_element(By.XPATH, '//span[text()=\" Casual Contract Reference \"]/../../../../../../../tr[{}]/td[{}]//table//table//tr[2]//td//input'.format(row, col)).send_keys(end_data)\n",
    "    # return {\"Start\": text_element_start.text, \"End\": text_element_end.text}\n",
    "\n",
    "row_write_processing_rules = {\n",
    "    \"Casual Contract Reference\": (lambda row, col, selection: write_row_col_select(row, col, selection)),\n",
    "    \"Hours Type\": (lambda row, col, selection: write_row_col_select(row, col, selection)),\n",
    "    \"Payment Type\": (lambda row, col, text: write_row_col_val_delay(row, col, text)),\n",
    "    \"Job Performed\": (lambda row, col, selection: write_row_col_select(row, col, selection)),\n",
    "    \"Approval ID\": (lambda row, col, selection: write_row_col_select(row, col, selection)),\n",
    "    \"Coy\": (lambda row, col, text: write_row_col_val_delay(row, col, text)),\n",
    "    \"Budg\": (lambda row, col, text: write_row_col_val_delay(row, col, text)),\n",
    "    \"Cost\": (lambda row, col, text: write_row_col_val_delay(row, col, text)),\n",
    "    \"Proj\": (lambda row, col, text: write_row_col_val_delay(row, col, text)),\n",
    "    \"Pur\": (lambda row, col, text: write_row_col_val_delay(row, col, text)),\n",
    "    \"Act\": (lambda row, col, text: write_row_col_val_delay(row, col, text)),\n",
    "    \"Loc\": (lambda row, col, text: write_row_col_val_delay(row, col, text)),\n",
    "}\n",
    "\n",
    "day_w_rules = [(row_name, (lambda row, col, entry: write_row_col_day(row, col, entry))) for row_name in row_order if row_name not in row_write_processing_rules.keys()]\n",
    "\n",
    "for row_name, rule in day_w_rules:\n",
    "    row_write_processing_rules[row_name] = rule\n",
    "\n",
    "row_write_processing_rules[\"Comments\"] = lambda row, col, text: write_row_col_val(row, col, text)"
   ]
  },
  {
   "cell_type": "code",
   "execution_count": null,
   "metadata": {},
   "outputs": [],
   "source": [
    "# Load page\n",
    "driver.get(themis_website)"
   ]
  },
  {
   "cell_type": "markdown",
   "metadata": {},
   "source": [
    "### Selenium Viewer"
   ]
  },
  {
   "cell_type": "code",
   "execution_count": null,
   "metadata": {},
   "outputs": [],
   "source": [
    "# This small bit lets you see what is shown on the screen, useful for checking for errors\n",
    "#   and whether to move onto the next step.\n",
    "#driver.execute_script(\"window.scrollTo(500, 1600)\")\n",
    "driver.execute_script(\"window.scrollTo(0, 0)\")\n",
    "display(Image(data=driver.get_screenshot_as_png()))"
   ]
  },
  {
   "cell_type": "markdown",
   "metadata": {},
   "source": [
    "### Okta Login\n",
    "If you haven't logged in yet, you'll need to do the Okta challenge."
   ]
  },
  {
   "cell_type": "code",
   "execution_count": null,
   "metadata": {},
   "outputs": [],
   "source": [
    "# Add username in.\n",
    "driver.find_element(By.NAME, \"identifier\").click()\n",
    "MY_USERNAME = \"...\"\n",
    "driver.find_element(By.NAME, \"identifier\").send_keys(MY_USERNAME)"
   ]
  },
  {
   "cell_type": "code",
   "execution_count": null,
   "metadata": {},
   "outputs": [],
   "source": [
    "# Add password in.\n",
    "driver.find_element(By.NAME, \"credentials.passcode\").click()\n",
    "MY_PASSWORD = \"...\"\n",
    "driver.find_element(By.NAME, \"credentials.passcode\").send_keys(MY_PASSWORD)"
   ]
  },
  {
   "cell_type": "code",
   "execution_count": null,
   "metadata": {},
   "outputs": [],
   "source": [
    "# Log in button click!\n",
    "driver.find_element(By.CLASS_NAME, \"button-primary\").click()"
   ]
  },
  {
   "cell_type": "code",
   "execution_count": null,
   "metadata": {},
   "outputs": [],
   "source": [
    "# Get push notification from Okta\n",
    "driver.find_element(By.XPATH, '//h3[text()=\"Get a push notification\"]/../../div[contains(@class, \"authenticator-button\")]/a').click()"
   ]
  },
  {
   "cell_type": "code",
   "execution_count": null,
   "metadata": {},
   "outputs": [],
   "source": [
    "# Took too long.\n",
    "# driver.find_element(By.CLASS_NAME, \"js-go-back\").click()"
   ]
  },
  {
   "cell_type": "code",
   "execution_count": null,
   "metadata": {},
   "outputs": [],
   "source": [
    "# If you aren't sure if your password is going in correctly.\n",
    "# driver.find_element(By.CLASS_NAME, \"button-show\").click()"
   ]
  },
  {
   "cell_type": "markdown",
   "metadata": {},
   "source": [
    "### Themis Login\n",
    "This set of cells log you into Themis. Themis has a number of bugs, hopefully the script should avoid them and enter entries fast enough to avoid timeouts. But you may find it useful to return here."
   ]
  },
  {
   "cell_type": "code",
   "execution_count": null,
   "metadata": {},
   "outputs": [],
   "source": [
    "# Add username in.\n",
    "driver.find_element(By.ID, \"unamebean\").click()\n",
    "driver.find_element(By.ID, \"unamebean\").send_keys(MY_USERNAME)"
   ]
  },
  {
   "cell_type": "code",
   "execution_count": null,
   "metadata": {},
   "outputs": [],
   "source": [
    "# Add password in.\n",
    "driver.find_element(By.ID, \"pwdbean\").click()\n",
    "driver.find_element(By.ID, \"pwdbean\").send_keys(MY_PASSWORD)"
   ]
  },
  {
   "cell_type": "code",
   "execution_count": null,
   "metadata": {},
   "outputs": [],
   "source": [
    "# This can be used to delete text from a field.\n",
    "# driver.find_element(By.ID, \"pwdbean\").click()\n",
    "# driver.find_element(By.ID, \"pwdbean\").clear()"
   ]
  },
  {
   "cell_type": "code",
   "execution_count": null,
   "metadata": {},
   "outputs": [],
   "source": [
    "driver.find_element(By.ID, \"SubmitButton\").click()"
   ]
  },
  {
   "cell_type": "markdown",
   "metadata": {},
   "source": [
    "### Themis Timecard Move\n",
    "The following steps open some folders and then move to the \"Create Timecards\" section. There are lots of ways which could lead to these folders being open, and clicking on them toggles them, so if something goes wrong in these steps, try running the viewer cell to work out which cells need to be run"
   ]
  },
  {
   "cell_type": "code",
   "execution_count": null,
   "metadata": {},
   "outputs": [],
   "source": [
    "driver.find_element(By.XPATH, \"//a[text()='UOM Staff Self Service']\").click()"
   ]
  },
  {
   "cell_type": "code",
   "execution_count": null,
   "metadata": {},
   "outputs": [],
   "source": [
    "driver.find_element(By.XPATH, \"//a[text()='Timecard']\").click()"
   ]
  },
  {
   "cell_type": "code",
   "execution_count": null,
   "metadata": {},
   "outputs": [],
   "source": [
    "driver.find_element(By.XPATH, \"//a[text()='Create Timecard']\").click()"
   ]
  },
  {
   "cell_type": "markdown",
   "metadata": {},
   "source": [
    "### Themis Timecard Select\n",
    "This step selects the timecard to fill, to avoid mis-entry, this is set explicitly instead of being derived from the timecard export.\n",
    "\n",
    "The ~ at the end of a timecard suggests some rows have been filled. So it is best to keep this out of the target timecard name (and it's best to remove it as soon as you've finished entering the timecard)."
   ]
  },
  {
   "cell_type": "code",
   "execution_count": null,
   "metadata": {},
   "outputs": [],
   "source": [
    "TIMECARD_TO_FILL = \"July 08, 2023 - July 21, 2023\"\n",
    "# TIMECARD_TO_FILL = \"June 08, 2023 - July 21, 2023~\""
   ]
  },
  {
   "cell_type": "code",
   "execution_count": null,
   "metadata": {},
   "outputs": [],
   "source": [
    "select_element = driver.find_element(By.NAME, \"TimecardPeriodList\")\n",
    "select = Select(select_element)\n",
    "option = None\n",
    "for candidate_option in select.options:\n",
    "    if candidate_option.accessible_name == TIMECARD_TO_FILL:\n",
    "        # print(candidate_option.accessible_name)\n",
    "        option = candidate_option\n",
    "assert option is not None\n",
    "select.select_by_visible_text(TIMECARD_TO_FILL)"
   ]
  },
  {
   "cell_type": "markdown",
   "metadata": {},
   "source": [
    "### Row Fill\n",
    "This section fills in the rows based on the target. Rows matching existing target rows will be excluded."
   ]
  },
  {
   "cell_type": "code",
   "execution_count": null,
   "metadata": {},
   "outputs": [],
   "source": [
    "def fill_row(row_idx, row_content):\n",
    "    for col in row_order:\n",
    "        # 1-indexed + skip over heading row.\n",
    "        html_row = row_idx + 2\n",
    "        # 1-indexed\n",
    "        html_col = 1 + col_map[col]\n",
    "        row_write_processing_rules[col](html_row, html_col, row_content[col])\n",
    "    driver.find_element(By.XPATH, \"//button[@title='Save']\").click()\n",
    "    time.sleep(1)\n",
    "    wait.until(lambda d: d.execute_script('return document.readyState') == 'complete')\n",
    "    driver.find_element(By.XPATH, \"//button[text()='Add Another Row']\").click()\n",
    "    time.sleep(1)\n",
    "    wait.until(lambda d: d.execute_script('return document.readyState') == 'complete')"
   ]
  },
  {
   "cell_type": "code",
   "execution_count": null,
   "metadata": {},
   "outputs": [],
   "source": [
    "def get_current_state_bundles():\n",
    "    current_state_bundles = []\n",
    "\n",
    "    for row_num in range(all_row_count):\n",
    "        row_entry = {}\n",
    "        for col in row_order:\n",
    "            col_to_read = col_map[col]\n",
    "            row_entry[col] = row_read_processing_rules[col](2 + row_num, 1 + col_to_read)\n",
    "        current_state_bundles.append(row_entry)\n",
    "    return current_state_bundles\n",
    "\n",
    "def get_status(current_state_bundles):\n",
    "    current_row_states = [get_row_string(cs, row_order) for cs in current_state_bundles]\n",
    "\n",
    "    unfilled_rows = set(full_rows_identifiers) - set(current_row_states)\n",
    "    filled_rows = set(full_rows_identifiers) - unfilled_rows\n",
    "    \n",
    "    return current_row_states, unfilled_rows, filled_rows\n",
    "\n",
    "def get_current_col_data():\n",
    "    page_soup = BeautifulSoup(driver.page_source, \"html.parser\")\n",
    "    relevant_table = page_soup.find('span', text=' Casual Contract Reference ').find_parent('table').find_parent('table')\n",
    "    relevant_tbody = relevant_table.tbody\n",
    "\n",
    "    cols = {}\n",
    "\n",
    "    selects = set([\"Casual Contract Reference\", \"Hours Type\", \"Job Performed\", \"Approval ID\"])\n",
    "\n",
    "    for row in relevant_tbody.children:\n",
    "        for cell_idx, cell in enumerate(row.children):\n",
    "            if cell_idx not in cols.keys():\n",
    "                cols[cell_idx] = {}\n",
    "                cols[cell_idx][\"name\"] = cell.text.strip()\n",
    "                cols[cell_idx][\"entries\"] = []\n",
    "            else:\n",
    "                entry = []\n",
    "                if cols[cell_idx][\"name\"] in selects:\n",
    "                    selected = None\n",
    "                    #display(HTML(str(cell)))\n",
    "                    for cell_option in cell.find_all('option', selected=True):\n",
    "                        # print(cell_option)\n",
    "                        entry = cell_option.text\n",
    "                        selected = entry\n",
    "                    if selected is None:\n",
    "                        entry = ''\n",
    "                elif len(cell.table.find_all('table')) > 1:\n",
    "                    for table in cell.table.table.find_all('table'):\n",
    "                        entry.append(table.text)\n",
    "                else:\n",
    "                    entry = cell.text\n",
    "                cols[cell_idx][\"entries\"].append(entry)\n",
    "    return cols\n",
    "\n",
    "\n",
    "start_time = time.time()\n",
    "row_idxes = sorted(list(full_rows.keys()))\n",
    "\n",
    "stale = True\n",
    "\n",
    "for row_idx in row_idxes:\n",
    "    if stale:\n",
    "        cols = get_current_col_data()\n",
    "        col_map = {col_data[\"name\"]: col_idx for col_idx, col_data in cols.items() if col_data[\"name\"] in row_read_processing_rules.keys()}\n",
    "        \n",
    "        all_row_count = min([len(col[\"entries\"]) for col in cols.values()])\n",
    "        \n",
    "        current_state_bundles = get_current_state_bundles()\n",
    "\n",
    "        current_row_states, unfilled_rows, filled_rows = get_status(current_state_bundles)\n",
    "        stale = False\n",
    "    \n",
    "    if full_rows_identifiers[row_idx] in filled_rows:\n",
    "        print(\"Already filled: Row #\", row_idx)\n",
    "        continue\n",
    "    else:\n",
    "        to_fill_row = None\n",
    "        for html_idx, row_option in enumerate(current_row_states):\n",
    "            if row_option not in filled_rows:\n",
    "                to_fill_row = html_idx\n",
    "                break\n",
    "        \n",
    "        assert to_fill_row is not None\n",
    "        print(\"Filling: Row #\", row_idx, \"(Checkpoint time: {})\".format(time.time() - start_time))\n",
    "        fill_row(to_fill_row, full_rows[row_idx])\n",
    "        stale = True\n",
    "print(\"Total Duration:\", time.time() - start_time)"
   ]
  },
  {
   "cell_type": "code",
   "execution_count": null,
   "metadata": {},
   "outputs": [],
   "source": [
    "# %pdb"
   ]
  },
  {
   "cell_type": "markdown",
   "metadata": {},
   "source": [
    "### Miscellaneous Extra Code\n",
    "This isn't really standard required code, but may be useful to have on hand if something went wrong in your input and you want to do manual changes."
   ]
  },
  {
   "cell_type": "code",
   "execution_count": null,
   "metadata": {},
   "outputs": [],
   "source": [
    "# Clear Delayed Column\n",
    "#row, col = 2, 8\n",
    "#driver.find_element(By.XPATH, '//span[text()=\" Casual Contract Reference \"]/../../../../../../../tr[{}]/td[{}]//input'.format(row, col)).click()\n",
    "#driver.find_element(By.XPATH, '//span[text()=\" Casual Contract Reference \"]/../../../../../../../tr[{}]/td[{}]//input'.format(row, col)).clear()\n",
    "# Clear Day Entry\n",
    "#row, col = 2, 16\n",
    "#driver.find_element(By.XPATH, '//span[text()=\" Casual Contract Reference \"]/../../../../../../../tr[{}]/td[{}]//table//td[1]//input'.format(row, col)).click()\n",
    "#driver.find_element(By.XPATH, '//span[text()=\" Casual Contract Reference \"]/../../../../../../../tr[{}]/td[{}]//table//td[1]//input'.format(row, col)).clear()\n",
    "#driver.find_element(By.XPATH, '//span[text()=\" Casual Contract Reference \"]/../../../../../../../tr[{}]/td[{}]//table//table//tr[1]/td//input'.format(row, col)).click()\n",
    "#driver.find_element(By.XPATH, '//span[text()=\" Casual Contract Reference \"]/../../../../../../../tr[{}]/td[{}]//table//table//tr[2]/td//input'.format(row, col)).clear()"
   ]
  },
  {
   "cell_type": "code",
   "execution_count": null,
   "metadata": {},
   "outputs": [],
   "source": [
    "# Check other parts of the view\n",
    "#driver.execute_script(\"window.scrollTo(1600, 1500)\")\n",
    "#driver.execute_script(\"window.scrollTo(1800, 1100)\")\n",
    "#display(Image(data=driver.get_screenshot_as_png()))"
   ]
  },
  {
   "cell_type": "code",
   "execution_count": null,
   "metadata": {},
   "outputs": [],
   "source": [
    "# Close extra window - useful if you enter a code missing some parts (e.g. 1 instead of 01)\n",
    "#print(driver.window_handles)\n",
    "#driver.switch_to.window(driver.window_handles[1])\n",
    "#driver.close()\n",
    "#driver.switch_to.window(driver.window_handles[0])"
   ]
  },
  {
   "cell_type": "code",
   "execution_count": null,
   "metadata": {},
   "outputs": [],
   "source": [
    "# If Themis session expires, you may need to click a \"here\" text button.\n",
    "# driver.find_element(By.XPATH, \"//font[text()=' here ']\").click()"
   ]
  }
 ],
 "metadata": {
  "kernelspec": {
   "display_name": "Python 3",
   "language": "python",
   "name": "python3"
  },
  "language_info": {
   "codemirror_mode": {
    "name": "ipython",
    "version": 3
   },
   "file_extension": ".py",
   "mimetype": "text/x-python",
   "name": "python",
   "nbconvert_exporter": "python",
   "pygments_lexer": "ipython3",
   "version": "3.7.4"
  }
 },
 "nbformat": 4,
 "nbformat_minor": 4
}
